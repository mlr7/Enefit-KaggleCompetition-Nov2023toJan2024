{
 "cells": [
  {
   "cell_type": "code",
   "execution_count": null,
   "id": "59a38d29",
   "metadata": {},
   "outputs": [],
   "source": []
  },
  {
   "cell_type": "markdown",
   "id": "baa989d3",
   "metadata": {},
   "source": [
    "### Imports"
   ]
  },
  {
   "cell_type": "code",
   "execution_count": 61,
   "id": "b0b9b7df",
   "metadata": {},
   "outputs": [],
   "source": [
    "%matplotlib inline\n",
    "\n",
    "import numpy as np\n",
    "import pandas as pd\n",
    "\n",
    "import matplotlib.pyplot as plt\n",
    "\n",
    "from sklearn.model_selection import train_test_split"
   ]
  },
  {
   "cell_type": "markdown",
   "id": "7bbb6258",
   "metadata": {},
   "source": [
    "### Data ingest"
   ]
  },
  {
   "cell_type": "code",
   "execution_count": 6,
   "id": "94c9d8b5",
   "metadata": {},
   "outputs": [],
   "source": [
    "data_client = 'client.csv'\n",
    "data_countyidm = 'county_id_to_name_map.json'\n",
    "data_elec = 'electricity_prices.csv'\n",
    "data_fw = 'forecast_weather.csv'\n",
    "data_gp = 'gas_prices.csv'\n",
    "data_hw = 'historical_weather.csv'\n",
    "data_t = 'train.csv'\n",
    "data_wtc = 'weather_station_to_county_mapping.csv'\n",
    "\n",
    "# data_ = '"
   ]
  },
  {
   "cell_type": "code",
   "execution_count": 7,
   "id": "028114ff",
   "metadata": {},
   "outputs": [
    {
     "name": "stdout",
     "output_type": "stream",
     "text": [
      "(2018352, 9) (41919, 7) (15286, 4) (3424512, 18) (637, 5) (1710800, 18) (112, 4)\n"
     ]
    }
   ],
   "source": [
    "df_t = pd.read_csv('../data_enefit_kggl/' + data_t)\n",
    "\n",
    "df_cl = pd.read_csv('../data_enefit_kggl/' + data_client)\n",
    "#df_cn = pd.read_json('../data_enefit_kggl/' + data_countyidm) # json\n",
    "df_el = pd.read_csv('../data_enefit_kggl/' + data_elec)\n",
    "df_fw = pd.read_csv('../data_enefit_kggl/' + data_fw)\n",
    "df_gp = pd.read_csv('../data_enefit_kggl/' + data_gp)\n",
    "df_hw = pd.read_csv('../data_enefit_kggl/' + data_hw)\n",
    "\n",
    "df_wtc = pd.read_csv('../data_enefit_kggl/' + data_wtc)\n",
    "\n",
    "print(df_t.shape, df_cl.shape, df_el.shape, df_fw.shape, \n",
    "     df_gp.shape, df_hw.shape, df_wtc.shape)"
   ]
  },
  {
   "cell_type": "markdown",
   "id": "0095fc19",
   "metadata": {},
   "source": [
    "### Feature engineering and feature aggregation"
   ]
  },
  {
   "cell_type": "markdown",
   "id": "69d2436e",
   "metadata": {},
   "source": [
    "### Create X_1"
   ]
  },
  {
   "cell_type": "code",
   "execution_count": 8,
   "id": "67426a67",
   "metadata": {},
   "outputs": [],
   "source": [
    "# Example of creating decent X from provided csv docs:\n",
    "# https://www.kaggle.com/code/anubhavtyagi1212/eenefit-predict-energy-behaviour"
   ]
  },
  {
   "cell_type": "code",
   "execution_count": 9,
   "id": "1c6ff92d",
   "metadata": {},
   "outputs": [
    {
     "name": "stdout",
     "output_type": "stream",
     "text": [
      "(2018352, 9)\n"
     ]
    }
   ],
   "source": [
    "df = []\n",
    "df = df_t.copy()\n",
    "print(df.shape)"
   ]
  },
  {
   "cell_type": "markdown",
   "id": "a9b67b67",
   "metadata": {},
   "source": [
    "### Datetime features"
   ]
  },
  {
   "cell_type": "code",
   "execution_count": 10,
   "id": "f42f3034",
   "metadata": {},
   "outputs": [
    {
     "name": "stdout",
     "output_type": "stream",
     "text": [
      "(2018352, 17)\n"
     ]
    }
   ],
   "source": [
    "df['datetime2'] = df['datetime'].astype('datetime64[ns]')\n",
    "df['year'] = df['datetime2'].astype('datetime64[ns]').dt.year\n",
    "df['month'] = df['datetime2'].astype('datetime64[ns]').dt.month\n",
    "df['day'] = df['datetime2'].astype('datetime64[ns]').dt.day\n",
    "df['day_of_week'] = df['datetime2'].astype('datetime64[ns]').dt.dayofweek\n",
    "df['day_of_year'] = df['datetime2'].astype('datetime64[ns]').dt.dayofyear\n",
    "df['hour_of_day'] = df['datetime2'].astype('datetime64[ns]').dt.hour\n",
    "df['date'] = df['datetime2'].dt.date\n",
    "print(df.shape)"
   ]
  },
  {
   "cell_type": "code",
   "execution_count": 11,
   "id": "9c0da8d5",
   "metadata": {},
   "outputs": [
    {
     "data": {
      "text/html": [
       "<div>\n",
       "<style scoped>\n",
       "    .dataframe tbody tr th:only-of-type {\n",
       "        vertical-align: middle;\n",
       "    }\n",
       "\n",
       "    .dataframe tbody tr th {\n",
       "        vertical-align: top;\n",
       "    }\n",
       "\n",
       "    .dataframe thead th {\n",
       "        text-align: right;\n",
       "    }\n",
       "</style>\n",
       "<table border=\"1\" class=\"dataframe\">\n",
       "  <thead>\n",
       "    <tr style=\"text-align: right;\">\n",
       "      <th></th>\n",
       "      <th>datetime</th>\n",
       "      <th>datetime2</th>\n",
       "      <th>year</th>\n",
       "      <th>month</th>\n",
       "      <th>day_of_week</th>\n",
       "      <th>day_of_year</th>\n",
       "      <th>hour_of_day</th>\n",
       "      <th>date</th>\n",
       "    </tr>\n",
       "  </thead>\n",
       "  <tbody>\n",
       "    <tr>\n",
       "      <th>0</th>\n",
       "      <td>2021-09-01 00:00:00</td>\n",
       "      <td>2021-09-01</td>\n",
       "      <td>2021</td>\n",
       "      <td>9</td>\n",
       "      <td>2</td>\n",
       "      <td>244</td>\n",
       "      <td>0</td>\n",
       "      <td>2021-09-01</td>\n",
       "    </tr>\n",
       "    <tr>\n",
       "      <th>1</th>\n",
       "      <td>2021-09-01 00:00:00</td>\n",
       "      <td>2021-09-01</td>\n",
       "      <td>2021</td>\n",
       "      <td>9</td>\n",
       "      <td>2</td>\n",
       "      <td>244</td>\n",
       "      <td>0</td>\n",
       "      <td>2021-09-01</td>\n",
       "    </tr>\n",
       "    <tr>\n",
       "      <th>2</th>\n",
       "      <td>2021-09-01 00:00:00</td>\n",
       "      <td>2021-09-01</td>\n",
       "      <td>2021</td>\n",
       "      <td>9</td>\n",
       "      <td>2</td>\n",
       "      <td>244</td>\n",
       "      <td>0</td>\n",
       "      <td>2021-09-01</td>\n",
       "    </tr>\n",
       "  </tbody>\n",
       "</table>\n",
       "</div>"
      ],
      "text/plain": [
       "              datetime  datetime2  year  month  day_of_week  day_of_year  \\\n",
       "0  2021-09-01 00:00:00 2021-09-01  2021      9            2          244   \n",
       "1  2021-09-01 00:00:00 2021-09-01  2021      9            2          244   \n",
       "2  2021-09-01 00:00:00 2021-09-01  2021      9            2          244   \n",
       "\n",
       "   hour_of_day        date  \n",
       "0            0  2021-09-01  \n",
       "1            0  2021-09-01  \n",
       "2            0  2021-09-01  "
      ]
     },
     "execution_count": 11,
     "metadata": {},
     "output_type": "execute_result"
    }
   ],
   "source": [
    "df[['datetime', 'datetime2', 'year', 'month',\n",
    "    'day_of_week', 'day_of_year', 'hour_of_day', 'date'\n",
    "   ]].head(3)"
   ]
  },
  {
   "cell_type": "markdown",
   "id": "995ed2e6",
   "metadata": {},
   "source": [
    "### Column drop \n",
    "\n",
    "(study why this)"
   ]
  },
  {
   "cell_type": "code",
   "execution_count": 12,
   "id": "e47a5895",
   "metadata": {},
   "outputs": [
    {
     "name": "stdout",
     "output_type": "stream",
     "text": [
      "(2018352, 17)\n",
      "(2018352, 13)\n"
     ]
    }
   ],
   "source": [
    "print(df.shape)\n",
    "df = df.drop(['county','is_business','is_consumption','product_type'],axis=1)\n",
    "print(df.shape)"
   ]
  },
  {
   "cell_type": "markdown",
   "id": "c616e4fe",
   "metadata": {},
   "source": [
    "### Gas price features"
   ]
  },
  {
   "cell_type": "code",
   "execution_count": 13,
   "id": "3f01ad0c",
   "metadata": {},
   "outputs": [
    {
     "data": {
      "text/plain": [
       "Index(['forecast_date', 'lowest_price_per_mwh', 'highest_price_per_mwh',\n",
       "       'origin_date', 'data_block_id'],\n",
       "      dtype='object')"
      ]
     },
     "execution_count": 13,
     "metadata": {},
     "output_type": "execute_result"
    }
   ],
   "source": [
    "df_gp.columns"
   ]
  },
  {
   "cell_type": "code",
   "execution_count": 14,
   "id": "3c9a5cfe",
   "metadata": {},
   "outputs": [],
   "source": [
    "df_gp['forecast_date2'] = df_gp['forecast_date'].astype('datetime64[ns]')"
   ]
  },
  {
   "cell_type": "code",
   "execution_count": 15,
   "id": "2713bba2",
   "metadata": {},
   "outputs": [],
   "source": [
    "df['lowest_price_per_mwh'] = df.reset_index()['datetime2'].map(df_gp.set_index(['forecast_date2'])['lowest_price_per_mwh'])\n",
    "df['highest_price_per_mwh'] = df.reset_index()['datetime2'].map(df_gp.set_index(['forecast_date2'])['highest_price_per_mwh'])"
   ]
  },
  {
   "cell_type": "code",
   "execution_count": 16,
   "id": "def31e2a",
   "metadata": {},
   "outputs": [
    {
     "name": "stdout",
     "output_type": "stream",
     "text": [
      "Index(['target', 'datetime', 'data_block_id', 'row_id', 'prediction_unit_id',\n",
      "       'datetime2', 'year', 'month', 'day', 'day_of_week', 'day_of_year',\n",
      "       'hour_of_day', 'date', 'lowest_price_per_mwh', 'highest_price_per_mwh'],\n",
      "      dtype='object')\n"
     ]
    },
    {
     "data": {
      "text/html": [
       "<div>\n",
       "<style scoped>\n",
       "    .dataframe tbody tr th:only-of-type {\n",
       "        vertical-align: middle;\n",
       "    }\n",
       "\n",
       "    .dataframe tbody tr th {\n",
       "        vertical-align: top;\n",
       "    }\n",
       "\n",
       "    .dataframe thead th {\n",
       "        text-align: right;\n",
       "    }\n",
       "</style>\n",
       "<table border=\"1\" class=\"dataframe\">\n",
       "  <thead>\n",
       "    <tr style=\"text-align: right;\">\n",
       "      <th></th>\n",
       "      <th>lowest_price_per_mwh</th>\n",
       "      <th>highest_price_per_mwh</th>\n",
       "    </tr>\n",
       "  </thead>\n",
       "  <tbody>\n",
       "    <tr>\n",
       "      <th>0</th>\n",
       "      <td>45.23</td>\n",
       "      <td>46.32</td>\n",
       "    </tr>\n",
       "    <tr>\n",
       "      <th>1</th>\n",
       "      <td>45.23</td>\n",
       "      <td>46.32</td>\n",
       "    </tr>\n",
       "    <tr>\n",
       "      <th>2</th>\n",
       "      <td>45.23</td>\n",
       "      <td>46.32</td>\n",
       "    </tr>\n",
       "  </tbody>\n",
       "</table>\n",
       "</div>"
      ],
      "text/plain": [
       "   lowest_price_per_mwh  highest_price_per_mwh\n",
       "0                 45.23                  46.32\n",
       "1                 45.23                  46.32\n",
       "2                 45.23                  46.32"
      ]
     },
     "execution_count": 16,
     "metadata": {},
     "output_type": "execute_result"
    }
   ],
   "source": [
    "print(df.columns)\n",
    "df[['lowest_price_per_mwh', 'highest_price_per_mwh']].head(3)"
   ]
  },
  {
   "cell_type": "markdown",
   "id": "d8fc9c8d",
   "metadata": {},
   "source": [
    "### Electricity price features"
   ]
  },
  {
   "cell_type": "code",
   "execution_count": 24,
   "id": "d41345e4",
   "metadata": {},
   "outputs": [],
   "source": [
    "df_el['forecast_date2'] = df_el['forecast_date'].astype('datetime64[ns]')"
   ]
  },
  {
   "cell_type": "code",
   "execution_count": 25,
   "id": "420d480a",
   "metadata": {},
   "outputs": [
    {
     "name": "stdout",
     "output_type": "stream",
     "text": [
      "(2018352, 16)\n",
      "(2018352, 16)\n",
      "Index(['target', 'datetime', 'data_block_id', 'row_id', 'prediction_unit_id',\n",
      "       'datetime2', 'year', 'month', 'day', 'day_of_week', 'day_of_year',\n",
      "       'hour_of_day', 'date', 'lowest_price_per_mwh', 'highest_price_per_mwh',\n",
      "       'euros_per_mwh'],\n",
      "      dtype='object')\n"
     ]
    }
   ],
   "source": [
    "print(df.shape)\n",
    "df['euros_per_mwh'] = df.reset_index()['datetime2'].map(df_el.set_index(['forecast_date2'])['euros_per_mwh'])\n",
    "print(df.shape)\n",
    "print(df.columns)"
   ]
  },
  {
   "cell_type": "markdown",
   "id": "3b661803",
   "metadata": {},
   "source": [
    "### Client features"
   ]
  },
  {
   "cell_type": "code",
   "execution_count": 26,
   "id": "e6afa92b",
   "metadata": {},
   "outputs": [],
   "source": [
    "df_cl['date2'] = df_cl['date'].astype('datetime64[ns]')"
   ]
  },
  {
   "cell_type": "code",
   "execution_count": 27,
   "id": "ef8199f8",
   "metadata": {},
   "outputs": [],
   "source": [
    "df['installed_capacity'] = df.reset_index()['datetime2'].map(df_cl.drop_duplicates('date2').set_index(['date2'])['installed_capacity'])"
   ]
  },
  {
   "cell_type": "markdown",
   "id": "e14ab629",
   "metadata": {},
   "source": [
    "### Weather history features"
   ]
  },
  {
   "cell_type": "code",
   "execution_count": 28,
   "id": "d93ebec4",
   "metadata": {},
   "outputs": [],
   "source": [
    "df_hw['datetime2'] = df_hw['datetime'].astype('datetime64[ns]')"
   ]
  },
  {
   "cell_type": "code",
   "execution_count": 29,
   "id": "e962d96f",
   "metadata": {},
   "outputs": [
    {
     "data": {
      "text/html": [
       "<div>\n",
       "<style scoped>\n",
       "    .dataframe tbody tr th:only-of-type {\n",
       "        vertical-align: middle;\n",
       "    }\n",
       "\n",
       "    .dataframe tbody tr th {\n",
       "        vertical-align: top;\n",
       "    }\n",
       "\n",
       "    .dataframe thead th {\n",
       "        text-align: right;\n",
       "    }\n",
       "</style>\n",
       "<table border=\"1\" class=\"dataframe\">\n",
       "  <thead>\n",
       "    <tr style=\"text-align: right;\">\n",
       "      <th></th>\n",
       "      <th>datetime</th>\n",
       "      <th>datetime2</th>\n",
       "    </tr>\n",
       "  </thead>\n",
       "  <tbody>\n",
       "    <tr>\n",
       "      <th>0</th>\n",
       "      <td>2021-09-01 00:00:00</td>\n",
       "      <td>2021-09-01</td>\n",
       "    </tr>\n",
       "    <tr>\n",
       "      <th>1</th>\n",
       "      <td>2021-09-01 00:00:00</td>\n",
       "      <td>2021-09-01</td>\n",
       "    </tr>\n",
       "    <tr>\n",
       "      <th>2</th>\n",
       "      <td>2021-09-01 00:00:00</td>\n",
       "      <td>2021-09-01</td>\n",
       "    </tr>\n",
       "  </tbody>\n",
       "</table>\n",
       "</div>"
      ],
      "text/plain": [
       "              datetime  datetime2\n",
       "0  2021-09-01 00:00:00 2021-09-01\n",
       "1  2021-09-01 00:00:00 2021-09-01\n",
       "2  2021-09-01 00:00:00 2021-09-01"
      ]
     },
     "execution_count": 29,
     "metadata": {},
     "output_type": "execute_result"
    }
   ],
   "source": [
    "df_hw[['datetime', 'datetime2']].head(3)"
   ]
  },
  {
   "cell_type": "code",
   "execution_count": 30,
   "id": "d3468b4e",
   "metadata": {},
   "outputs": [
    {
     "name": "stdout",
     "output_type": "stream",
     "text": [
      "(2018352, 17)\n",
      "(2018352, 35)\n"
     ]
    }
   ],
   "source": [
    "print(df.shape)\n",
    "df = df.merge(df_hw.drop_duplicates('datetime2'), on='datetime2', how='left')\n",
    "print(df.shape)"
   ]
  },
  {
   "cell_type": "code",
   "execution_count": 31,
   "id": "0d9aa90e",
   "metadata": {},
   "outputs": [
    {
     "data": {
      "text/html": [
       "<div>\n",
       "<style scoped>\n",
       "    .dataframe tbody tr th:only-of-type {\n",
       "        vertical-align: middle;\n",
       "    }\n",
       "\n",
       "    .dataframe tbody tr th {\n",
       "        vertical-align: top;\n",
       "    }\n",
       "\n",
       "    .dataframe thead th {\n",
       "        text-align: right;\n",
       "    }\n",
       "</style>\n",
       "<table border=\"1\" class=\"dataframe\">\n",
       "  <thead>\n",
       "    <tr style=\"text-align: right;\">\n",
       "      <th></th>\n",
       "      <th>target</th>\n",
       "      <th>datetime_x</th>\n",
       "      <th>data_block_id_x</th>\n",
       "      <th>row_id</th>\n",
       "      <th>prediction_unit_id</th>\n",
       "      <th>datetime2</th>\n",
       "      <th>year</th>\n",
       "      <th>month</th>\n",
       "      <th>day</th>\n",
       "      <th>day_of_week</th>\n",
       "      <th>...</th>\n",
       "      <th>cloudcover_mid</th>\n",
       "      <th>cloudcover_high</th>\n",
       "      <th>windspeed_10m</th>\n",
       "      <th>winddirection_10m</th>\n",
       "      <th>shortwave_radiation</th>\n",
       "      <th>direct_solar_radiation</th>\n",
       "      <th>diffuse_radiation</th>\n",
       "      <th>latitude</th>\n",
       "      <th>longitude</th>\n",
       "      <th>data_block_id_y</th>\n",
       "    </tr>\n",
       "  </thead>\n",
       "  <tbody>\n",
       "    <tr>\n",
       "      <th>0</th>\n",
       "      <td>0.713</td>\n",
       "      <td>2021-09-01 00:00:00</td>\n",
       "      <td>0</td>\n",
       "      <td>0</td>\n",
       "      <td>0</td>\n",
       "      <td>2021-09-01</td>\n",
       "      <td>2021</td>\n",
       "      <td>9</td>\n",
       "      <td>1</td>\n",
       "      <td>2</td>\n",
       "      <td>...</td>\n",
       "      <td>0.0</td>\n",
       "      <td>0.0</td>\n",
       "      <td>6.694444</td>\n",
       "      <td>3.0</td>\n",
       "      <td>0.0</td>\n",
       "      <td>0.0</td>\n",
       "      <td>0.0</td>\n",
       "      <td>57.6</td>\n",
       "      <td>21.7</td>\n",
       "      <td>1.0</td>\n",
       "    </tr>\n",
       "    <tr>\n",
       "      <th>1</th>\n",
       "      <td>96.590</td>\n",
       "      <td>2021-09-01 00:00:00</td>\n",
       "      <td>0</td>\n",
       "      <td>1</td>\n",
       "      <td>0</td>\n",
       "      <td>2021-09-01</td>\n",
       "      <td>2021</td>\n",
       "      <td>9</td>\n",
       "      <td>1</td>\n",
       "      <td>2</td>\n",
       "      <td>...</td>\n",
       "      <td>0.0</td>\n",
       "      <td>0.0</td>\n",
       "      <td>6.694444</td>\n",
       "      <td>3.0</td>\n",
       "      <td>0.0</td>\n",
       "      <td>0.0</td>\n",
       "      <td>0.0</td>\n",
       "      <td>57.6</td>\n",
       "      <td>21.7</td>\n",
       "      <td>1.0</td>\n",
       "    </tr>\n",
       "    <tr>\n",
       "      <th>2</th>\n",
       "      <td>0.000</td>\n",
       "      <td>2021-09-01 00:00:00</td>\n",
       "      <td>0</td>\n",
       "      <td>2</td>\n",
       "      <td>1</td>\n",
       "      <td>2021-09-01</td>\n",
       "      <td>2021</td>\n",
       "      <td>9</td>\n",
       "      <td>1</td>\n",
       "      <td>2</td>\n",
       "      <td>...</td>\n",
       "      <td>0.0</td>\n",
       "      <td>0.0</td>\n",
       "      <td>6.694444</td>\n",
       "      <td>3.0</td>\n",
       "      <td>0.0</td>\n",
       "      <td>0.0</td>\n",
       "      <td>0.0</td>\n",
       "      <td>57.6</td>\n",
       "      <td>21.7</td>\n",
       "      <td>1.0</td>\n",
       "    </tr>\n",
       "  </tbody>\n",
       "</table>\n",
       "<p>3 rows × 35 columns</p>\n",
       "</div>"
      ],
      "text/plain": [
       "   target           datetime_x  data_block_id_x  row_id  prediction_unit_id  \\\n",
       "0   0.713  2021-09-01 00:00:00                0       0                   0   \n",
       "1  96.590  2021-09-01 00:00:00                0       1                   0   \n",
       "2   0.000  2021-09-01 00:00:00                0       2                   1   \n",
       "\n",
       "   datetime2  year  month  day  day_of_week  ...  cloudcover_mid  \\\n",
       "0 2021-09-01  2021      9    1            2  ...             0.0   \n",
       "1 2021-09-01  2021      9    1            2  ...             0.0   \n",
       "2 2021-09-01  2021      9    1            2  ...             0.0   \n",
       "\n",
       "   cloudcover_high windspeed_10m  winddirection_10m  shortwave_radiation  \\\n",
       "0              0.0      6.694444                3.0                  0.0   \n",
       "1              0.0      6.694444                3.0                  0.0   \n",
       "2              0.0      6.694444                3.0                  0.0   \n",
       "\n",
       "   direct_solar_radiation  diffuse_radiation latitude  longitude  \\\n",
       "0                     0.0                0.0     57.6       21.7   \n",
       "1                     0.0                0.0     57.6       21.7   \n",
       "2                     0.0                0.0     57.6       21.7   \n",
       "\n",
       "   data_block_id_y  \n",
       "0              1.0  \n",
       "1              1.0  \n",
       "2              1.0  \n",
       "\n",
       "[3 rows x 35 columns]"
      ]
     },
     "execution_count": 31,
     "metadata": {},
     "output_type": "execute_result"
    }
   ],
   "source": [
    "df.head(3)"
   ]
  },
  {
   "cell_type": "markdown",
   "id": "cd8a8eb4",
   "metadata": {},
   "source": [
    "##### There are more operations on test data, for 'prediction_datetime' , etc. Revisit this later, see https://www.kaggle.com/code/anubhavtyagi1212/eenefit-predict-energy-behaviour\n",
    "\n",
    "##### Possibly the \"predicted weather\" data is just for test data prediction, not seeing it used in what have yet .  .  .  look into it later, this plenty to start in on . . . and reunway 4 weeks and 2 week vaca and then jan2024 final drive to get into it . . . "
   ]
  },
  {
   "cell_type": "markdown",
   "id": "eb37b0f1",
   "metadata": {},
   "source": [
    "### Assess enhanced data"
   ]
  },
  {
   "cell_type": "code",
   "execution_count": 32,
   "id": "94d7e953",
   "metadata": {},
   "outputs": [
    {
     "name": "stdout",
     "output_type": "stream",
     "text": [
      "(2018352, 35)\n",
      "Index(['target', 'datetime_x', 'data_block_id_x', 'row_id',\n",
      "       'prediction_unit_id', 'datetime2', 'year', 'month', 'day',\n",
      "       'day_of_week', 'day_of_year', 'hour_of_day', 'date',\n",
      "       'lowest_price_per_mwh', 'highest_price_per_mwh', 'euros_per_mwh',\n",
      "       'installed_capacity', 'datetime_y', 'temperature', 'dewpoint', 'rain',\n",
      "       'snowfall', 'surface_pressure', 'cloudcover_total', 'cloudcover_low',\n",
      "       'cloudcover_mid', 'cloudcover_high', 'windspeed_10m',\n",
      "       'winddirection_10m', 'shortwave_radiation', 'direct_solar_radiation',\n",
      "       'diffuse_radiation', 'latitude', 'longitude', 'data_block_id_y'],\n",
      "      dtype='object')\n"
     ]
    },
    {
     "data": {
      "text/html": [
       "<div>\n",
       "<style scoped>\n",
       "    .dataframe tbody tr th:only-of-type {\n",
       "        vertical-align: middle;\n",
       "    }\n",
       "\n",
       "    .dataframe tbody tr th {\n",
       "        vertical-align: top;\n",
       "    }\n",
       "\n",
       "    .dataframe thead th {\n",
       "        text-align: right;\n",
       "    }\n",
       "</style>\n",
       "<table border=\"1\" class=\"dataframe\">\n",
       "  <thead>\n",
       "    <tr style=\"text-align: right;\">\n",
       "      <th></th>\n",
       "      <th>target</th>\n",
       "      <th>datetime_x</th>\n",
       "      <th>data_block_id_x</th>\n",
       "      <th>row_id</th>\n",
       "      <th>prediction_unit_id</th>\n",
       "      <th>datetime2</th>\n",
       "      <th>year</th>\n",
       "      <th>month</th>\n",
       "      <th>day</th>\n",
       "      <th>day_of_week</th>\n",
       "      <th>...</th>\n",
       "      <th>cloudcover_mid</th>\n",
       "      <th>cloudcover_high</th>\n",
       "      <th>windspeed_10m</th>\n",
       "      <th>winddirection_10m</th>\n",
       "      <th>shortwave_radiation</th>\n",
       "      <th>direct_solar_radiation</th>\n",
       "      <th>diffuse_radiation</th>\n",
       "      <th>latitude</th>\n",
       "      <th>longitude</th>\n",
       "      <th>data_block_id_y</th>\n",
       "    </tr>\n",
       "  </thead>\n",
       "  <tbody>\n",
       "    <tr>\n",
       "      <th>0</th>\n",
       "      <td>0.713</td>\n",
       "      <td>2021-09-01 00:00:00</td>\n",
       "      <td>0</td>\n",
       "      <td>0</td>\n",
       "      <td>0</td>\n",
       "      <td>2021-09-01</td>\n",
       "      <td>2021</td>\n",
       "      <td>9</td>\n",
       "      <td>1</td>\n",
       "      <td>2</td>\n",
       "      <td>...</td>\n",
       "      <td>0.0</td>\n",
       "      <td>0.0</td>\n",
       "      <td>6.694444</td>\n",
       "      <td>3.0</td>\n",
       "      <td>0.0</td>\n",
       "      <td>0.0</td>\n",
       "      <td>0.0</td>\n",
       "      <td>57.6</td>\n",
       "      <td>21.7</td>\n",
       "      <td>1.0</td>\n",
       "    </tr>\n",
       "    <tr>\n",
       "      <th>1</th>\n",
       "      <td>96.590</td>\n",
       "      <td>2021-09-01 00:00:00</td>\n",
       "      <td>0</td>\n",
       "      <td>1</td>\n",
       "      <td>0</td>\n",
       "      <td>2021-09-01</td>\n",
       "      <td>2021</td>\n",
       "      <td>9</td>\n",
       "      <td>1</td>\n",
       "      <td>2</td>\n",
       "      <td>...</td>\n",
       "      <td>0.0</td>\n",
       "      <td>0.0</td>\n",
       "      <td>6.694444</td>\n",
       "      <td>3.0</td>\n",
       "      <td>0.0</td>\n",
       "      <td>0.0</td>\n",
       "      <td>0.0</td>\n",
       "      <td>57.6</td>\n",
       "      <td>21.7</td>\n",
       "      <td>1.0</td>\n",
       "    </tr>\n",
       "    <tr>\n",
       "      <th>2</th>\n",
       "      <td>0.000</td>\n",
       "      <td>2021-09-01 00:00:00</td>\n",
       "      <td>0</td>\n",
       "      <td>2</td>\n",
       "      <td>1</td>\n",
       "      <td>2021-09-01</td>\n",
       "      <td>2021</td>\n",
       "      <td>9</td>\n",
       "      <td>1</td>\n",
       "      <td>2</td>\n",
       "      <td>...</td>\n",
       "      <td>0.0</td>\n",
       "      <td>0.0</td>\n",
       "      <td>6.694444</td>\n",
       "      <td>3.0</td>\n",
       "      <td>0.0</td>\n",
       "      <td>0.0</td>\n",
       "      <td>0.0</td>\n",
       "      <td>57.6</td>\n",
       "      <td>21.7</td>\n",
       "      <td>1.0</td>\n",
       "    </tr>\n",
       "    <tr>\n",
       "      <th>3</th>\n",
       "      <td>17.314</td>\n",
       "      <td>2021-09-01 00:00:00</td>\n",
       "      <td>0</td>\n",
       "      <td>3</td>\n",
       "      <td>1</td>\n",
       "      <td>2021-09-01</td>\n",
       "      <td>2021</td>\n",
       "      <td>9</td>\n",
       "      <td>1</td>\n",
       "      <td>2</td>\n",
       "      <td>...</td>\n",
       "      <td>0.0</td>\n",
       "      <td>0.0</td>\n",
       "      <td>6.694444</td>\n",
       "      <td>3.0</td>\n",
       "      <td>0.0</td>\n",
       "      <td>0.0</td>\n",
       "      <td>0.0</td>\n",
       "      <td>57.6</td>\n",
       "      <td>21.7</td>\n",
       "      <td>1.0</td>\n",
       "    </tr>\n",
       "  </tbody>\n",
       "</table>\n",
       "<p>4 rows × 35 columns</p>\n",
       "</div>"
      ],
      "text/plain": [
       "   target           datetime_x  data_block_id_x  row_id  prediction_unit_id  \\\n",
       "0   0.713  2021-09-01 00:00:00                0       0                   0   \n",
       "1  96.590  2021-09-01 00:00:00                0       1                   0   \n",
       "2   0.000  2021-09-01 00:00:00                0       2                   1   \n",
       "3  17.314  2021-09-01 00:00:00                0       3                   1   \n",
       "\n",
       "   datetime2  year  month  day  day_of_week  ...  cloudcover_mid  \\\n",
       "0 2021-09-01  2021      9    1            2  ...             0.0   \n",
       "1 2021-09-01  2021      9    1            2  ...             0.0   \n",
       "2 2021-09-01  2021      9    1            2  ...             0.0   \n",
       "3 2021-09-01  2021      9    1            2  ...             0.0   \n",
       "\n",
       "   cloudcover_high windspeed_10m  winddirection_10m  shortwave_radiation  \\\n",
       "0              0.0      6.694444                3.0                  0.0   \n",
       "1              0.0      6.694444                3.0                  0.0   \n",
       "2              0.0      6.694444                3.0                  0.0   \n",
       "3              0.0      6.694444                3.0                  0.0   \n",
       "\n",
       "   direct_solar_radiation  diffuse_radiation latitude  longitude  \\\n",
       "0                     0.0                0.0     57.6       21.7   \n",
       "1                     0.0                0.0     57.6       21.7   \n",
       "2                     0.0                0.0     57.6       21.7   \n",
       "3                     0.0                0.0     57.6       21.7   \n",
       "\n",
       "   data_block_id_y  \n",
       "0              1.0  \n",
       "1              1.0  \n",
       "2              1.0  \n",
       "3              1.0  \n",
       "\n",
       "[4 rows x 35 columns]"
      ]
     },
     "metadata": {},
     "output_type": "display_data"
    },
    {
     "data": {
      "text/html": [
       "<div>\n",
       "<style scoped>\n",
       "    .dataframe tbody tr th:only-of-type {\n",
       "        vertical-align: middle;\n",
       "    }\n",
       "\n",
       "    .dataframe tbody tr th {\n",
       "        vertical-align: top;\n",
       "    }\n",
       "\n",
       "    .dataframe thead th {\n",
       "        text-align: right;\n",
       "    }\n",
       "</style>\n",
       "<table border=\"1\" class=\"dataframe\">\n",
       "  <thead>\n",
       "    <tr style=\"text-align: right;\">\n",
       "      <th></th>\n",
       "      <th>target</th>\n",
       "      <th>datetime_x</th>\n",
       "      <th>data_block_id_x</th>\n",
       "      <th>row_id</th>\n",
       "      <th>prediction_unit_id</th>\n",
       "      <th>datetime2</th>\n",
       "      <th>year</th>\n",
       "      <th>month</th>\n",
       "      <th>day</th>\n",
       "      <th>day_of_week</th>\n",
       "      <th>...</th>\n",
       "      <th>cloudcover_mid</th>\n",
       "      <th>cloudcover_high</th>\n",
       "      <th>windspeed_10m</th>\n",
       "      <th>winddirection_10m</th>\n",
       "      <th>shortwave_radiation</th>\n",
       "      <th>direct_solar_radiation</th>\n",
       "      <th>diffuse_radiation</th>\n",
       "      <th>latitude</th>\n",
       "      <th>longitude</th>\n",
       "      <th>data_block_id_y</th>\n",
       "    </tr>\n",
       "  </thead>\n",
       "  <tbody>\n",
       "    <tr>\n",
       "      <th>2018348</th>\n",
       "      <td>0.000</td>\n",
       "      <td>2023-05-31 23:00:00</td>\n",
       "      <td>637</td>\n",
       "      <td>2018348</td>\n",
       "      <td>59</td>\n",
       "      <td>2023-05-31 23:00:00</td>\n",
       "      <td>2023</td>\n",
       "      <td>5</td>\n",
       "      <td>31</td>\n",
       "      <td>2</td>\n",
       "      <td>...</td>\n",
       "      <td>NaN</td>\n",
       "      <td>NaN</td>\n",
       "      <td>NaN</td>\n",
       "      <td>NaN</td>\n",
       "      <td>NaN</td>\n",
       "      <td>NaN</td>\n",
       "      <td>NaN</td>\n",
       "      <td>NaN</td>\n",
       "      <td>NaN</td>\n",
       "      <td>NaN</td>\n",
       "    </tr>\n",
       "    <tr>\n",
       "      <th>2018349</th>\n",
       "      <td>28.404</td>\n",
       "      <td>2023-05-31 23:00:00</td>\n",
       "      <td>637</td>\n",
       "      <td>2018349</td>\n",
       "      <td>59</td>\n",
       "      <td>2023-05-31 23:00:00</td>\n",
       "      <td>2023</td>\n",
       "      <td>5</td>\n",
       "      <td>31</td>\n",
       "      <td>2</td>\n",
       "      <td>...</td>\n",
       "      <td>NaN</td>\n",
       "      <td>NaN</td>\n",
       "      <td>NaN</td>\n",
       "      <td>NaN</td>\n",
       "      <td>NaN</td>\n",
       "      <td>NaN</td>\n",
       "      <td>NaN</td>\n",
       "      <td>NaN</td>\n",
       "      <td>NaN</td>\n",
       "      <td>NaN</td>\n",
       "    </tr>\n",
       "    <tr>\n",
       "      <th>2018350</th>\n",
       "      <td>0.000</td>\n",
       "      <td>2023-05-31 23:00:00</td>\n",
       "      <td>637</td>\n",
       "      <td>2018350</td>\n",
       "      <td>60</td>\n",
       "      <td>2023-05-31 23:00:00</td>\n",
       "      <td>2023</td>\n",
       "      <td>5</td>\n",
       "      <td>31</td>\n",
       "      <td>2</td>\n",
       "      <td>...</td>\n",
       "      <td>NaN</td>\n",
       "      <td>NaN</td>\n",
       "      <td>NaN</td>\n",
       "      <td>NaN</td>\n",
       "      <td>NaN</td>\n",
       "      <td>NaN</td>\n",
       "      <td>NaN</td>\n",
       "      <td>NaN</td>\n",
       "      <td>NaN</td>\n",
       "      <td>NaN</td>\n",
       "    </tr>\n",
       "    <tr>\n",
       "      <th>2018351</th>\n",
       "      <td>196.240</td>\n",
       "      <td>2023-05-31 23:00:00</td>\n",
       "      <td>637</td>\n",
       "      <td>2018351</td>\n",
       "      <td>60</td>\n",
       "      <td>2023-05-31 23:00:00</td>\n",
       "      <td>2023</td>\n",
       "      <td>5</td>\n",
       "      <td>31</td>\n",
       "      <td>2</td>\n",
       "      <td>...</td>\n",
       "      <td>NaN</td>\n",
       "      <td>NaN</td>\n",
       "      <td>NaN</td>\n",
       "      <td>NaN</td>\n",
       "      <td>NaN</td>\n",
       "      <td>NaN</td>\n",
       "      <td>NaN</td>\n",
       "      <td>NaN</td>\n",
       "      <td>NaN</td>\n",
       "      <td>NaN</td>\n",
       "    </tr>\n",
       "  </tbody>\n",
       "</table>\n",
       "<p>4 rows × 35 columns</p>\n",
       "</div>"
      ],
      "text/plain": [
       "          target           datetime_x  data_block_id_x   row_id  \\\n",
       "2018348    0.000  2023-05-31 23:00:00              637  2018348   \n",
       "2018349   28.404  2023-05-31 23:00:00              637  2018349   \n",
       "2018350    0.000  2023-05-31 23:00:00              637  2018350   \n",
       "2018351  196.240  2023-05-31 23:00:00              637  2018351   \n",
       "\n",
       "         prediction_unit_id           datetime2  year  month  day  \\\n",
       "2018348                  59 2023-05-31 23:00:00  2023      5   31   \n",
       "2018349                  59 2023-05-31 23:00:00  2023      5   31   \n",
       "2018350                  60 2023-05-31 23:00:00  2023      5   31   \n",
       "2018351                  60 2023-05-31 23:00:00  2023      5   31   \n",
       "\n",
       "         day_of_week  ...  cloudcover_mid  cloudcover_high windspeed_10m  \\\n",
       "2018348            2  ...             NaN              NaN           NaN   \n",
       "2018349            2  ...             NaN              NaN           NaN   \n",
       "2018350            2  ...             NaN              NaN           NaN   \n",
       "2018351            2  ...             NaN              NaN           NaN   \n",
       "\n",
       "         winddirection_10m  shortwave_radiation  direct_solar_radiation  \\\n",
       "2018348                NaN                  NaN                     NaN   \n",
       "2018349                NaN                  NaN                     NaN   \n",
       "2018350                NaN                  NaN                     NaN   \n",
       "2018351                NaN                  NaN                     NaN   \n",
       "\n",
       "         diffuse_radiation latitude  longitude  data_block_id_y  \n",
       "2018348                NaN      NaN        NaN              NaN  \n",
       "2018349                NaN      NaN        NaN              NaN  \n",
       "2018350                NaN      NaN        NaN              NaN  \n",
       "2018351                NaN      NaN        NaN              NaN  \n",
       "\n",
       "[4 rows x 35 columns]"
      ]
     },
     "metadata": {},
     "output_type": "display_data"
    }
   ],
   "source": [
    "print(df.shape)\n",
    "print(df.columns)\n",
    "display(df.head(4))\n",
    "display(df.tail(4))"
   ]
  },
  {
   "cell_type": "code",
   "execution_count": 41,
   "id": "59faca2e",
   "metadata": {},
   "outputs": [],
   "source": [
    "# df2['datetime'] # lost in a merge operation, now 'datetime_x'"
   ]
  },
  {
   "cell_type": "markdown",
   "id": "877c3564",
   "metadata": {},
   "source": [
    "### Drop cols-2"
   ]
  },
  {
   "cell_type": "code",
   "execution_count": null,
   "id": "46863db8",
   "metadata": {},
   "outputs": [],
   "source": [
    "df.columns"
   ]
  },
  {
   "cell_type": "code",
   "execution_count": 44,
   "id": "706f9a34",
   "metadata": {},
   "outputs": [],
   "source": [
    "# original set to drop from https://www.kaggle.com/code/anubhavtyagi1212/eenefit-predict-energy-behaviour: \n",
    "# ['datetime', 'data_block_id_x', 'row_id', 'prediction_unit_id','date','latitude', 'longitude', 'data_block_id_y']\n",
    "\n",
    "df2 = df.copy()\n",
    "\n",
    "df2['datetime'] = df['datetime_x']\n",
    "\n",
    "df2 = df2.drop(['datetime_x','data_block_id_x', 'row_id', \n",
    "              'prediction_unit_id','datetime2', 'datetime_y',\n",
    "               'date','latitude', \n",
    "              'longitude', 'data_block_id_y'\n",
    "             ], axis=1) # # df['datetime'] # lost in a merge operation, now 'datetime_x'"
   ]
  },
  {
   "cell_type": "code",
   "execution_count": 45,
   "id": "754b7faf",
   "metadata": {},
   "outputs": [
    {
     "data": {
      "text/plain": [
       "0    2021-09-01 00:00:00\n",
       "1    2021-09-01 00:00:00\n",
       "2    2021-09-01 00:00:00\n",
       "Name: datetime, dtype: object"
      ]
     },
     "execution_count": 45,
     "metadata": {},
     "output_type": "execute_result"
    }
   ],
   "source": [
    "df2['datetime'].head(3)"
   ]
  },
  {
   "cell_type": "code",
   "execution_count": 46,
   "id": "39f224b8",
   "metadata": {},
   "outputs": [
    {
     "name": "stdout",
     "output_type": "stream",
     "text": [
      "Index(['target', 'year', 'month', 'day', 'day_of_week', 'day_of_year',\n",
      "       'hour_of_day', 'lowest_price_per_mwh', 'highest_price_per_mwh',\n",
      "       'euros_per_mwh', 'installed_capacity', 'temperature', 'dewpoint',\n",
      "       'rain', 'snowfall', 'surface_pressure', 'cloudcover_total',\n",
      "       'cloudcover_low', 'cloudcover_mid', 'cloudcover_high', 'windspeed_10m',\n",
      "       'winddirection_10m', 'shortwave_radiation', 'direct_solar_radiation',\n",
      "       'diffuse_radiation', 'datetime'],\n",
      "      dtype='object')\n"
     ]
    }
   ],
   "source": [
    "print(df2.columns)"
   ]
  },
  {
   "cell_type": "code",
   "execution_count": null,
   "id": "4383f84a",
   "metadata": {},
   "outputs": [],
   "source": [
    "print(df2.columns)\n",
    "display(df2.head(4))\n",
    "display(df2.tail(4))"
   ]
  },
  {
   "cell_type": "code",
   "execution_count": 63,
   "id": "245f5e63",
   "metadata": {},
   "outputs": [],
   "source": [
    "df = df2.copy()"
   ]
  },
  {
   "cell_type": "code",
   "execution_count": 64,
   "id": "d3511b2e",
   "metadata": {},
   "outputs": [
    {
     "name": "stdout",
     "output_type": "stream",
     "text": [
      "(2018352, 26)\n",
      "(83838, 26)\n"
     ]
    }
   ],
   "source": [
    "# remove nan, at least in y (cannot split if y has NaN)\n",
    "print(df.shape)\n",
    "df = df.dropna()\n",
    "print(df.shape)"
   ]
  },
  {
   "cell_type": "code",
   "execution_count": 65,
   "id": "673788fa",
   "metadata": {},
   "outputs": [
    {
     "name": "stdout",
     "output_type": "stream",
     "text": [
      "(83838, 26)\n",
      "(83838, 26)\n"
     ]
    }
   ],
   "source": [
    "# Reduce data size:\n",
    "\n",
    "\n",
    "print(df.shape)\n",
    "#df = df.sample(frac=0.05)\n",
    "df = df.reset_index(drop=True)\n",
    "print(df.shape)"
   ]
  },
  {
   "cell_type": "code",
   "execution_count": 66,
   "id": "b3ed0414",
   "metadata": {},
   "outputs": [
    {
     "name": "stdout",
     "output_type": "stream",
     "text": [
      "(83838, 26) (83838, 24) (83838, 1)\n"
     ]
    }
   ],
   "source": [
    "df_y = df[['target']]\n",
    "df_X = df.drop(['target', 'datetime'], axis=1)\n",
    "print(df.shape, df_X.shape, df_y.shape)"
   ]
  },
  {
   "cell_type": "code",
   "execution_count": 67,
   "id": "755907ea",
   "metadata": {},
   "outputs": [],
   "source": [
    "#df.to_csv('data_enefit_prep1_25nov2023a.csv', index=False)"
   ]
  },
  {
   "cell_type": "markdown",
   "id": "c146e08e",
   "metadata": {},
   "source": [
    "### ML-1"
   ]
  },
  {
   "cell_type": "code",
   "execution_count": 68,
   "id": "b722f5dd",
   "metadata": {},
   "outputs": [
    {
     "name": "stdout",
     "output_type": "stream",
     "text": [
      "Index(['year', 'month', 'day', 'day_of_week', 'day_of_year', 'hour_of_day',\n",
      "       'lowest_price_per_mwh', 'highest_price_per_mwh', 'euros_per_mwh',\n",
      "       'installed_capacity', 'temperature', 'dewpoint', 'rain', 'snowfall',\n",
      "       'surface_pressure', 'cloudcover_total', 'cloudcover_low',\n",
      "       'cloudcover_mid', 'cloudcover_high', 'windspeed_10m',\n",
      "       'winddirection_10m', 'shortwave_radiation', 'direct_solar_radiation',\n",
      "       'diffuse_radiation'],\n",
      "      dtype='object')\n"
     ]
    },
    {
     "data": {
      "text/html": [
       "<div>\n",
       "<style scoped>\n",
       "    .dataframe tbody tr th:only-of-type {\n",
       "        vertical-align: middle;\n",
       "    }\n",
       "\n",
       "    .dataframe tbody tr th {\n",
       "        vertical-align: top;\n",
       "    }\n",
       "\n",
       "    .dataframe thead th {\n",
       "        text-align: right;\n",
       "    }\n",
       "</style>\n",
       "<table border=\"1\" class=\"dataframe\">\n",
       "  <thead>\n",
       "    <tr style=\"text-align: right;\">\n",
       "      <th></th>\n",
       "      <th>year</th>\n",
       "      <th>month</th>\n",
       "      <th>day</th>\n",
       "      <th>day_of_week</th>\n",
       "      <th>day_of_year</th>\n",
       "      <th>hour_of_day</th>\n",
       "      <th>lowest_price_per_mwh</th>\n",
       "      <th>highest_price_per_mwh</th>\n",
       "      <th>euros_per_mwh</th>\n",
       "      <th>installed_capacity</th>\n",
       "      <th>...</th>\n",
       "      <th>surface_pressure</th>\n",
       "      <th>cloudcover_total</th>\n",
       "      <th>cloudcover_low</th>\n",
       "      <th>cloudcover_mid</th>\n",
       "      <th>cloudcover_high</th>\n",
       "      <th>windspeed_10m</th>\n",
       "      <th>winddirection_10m</th>\n",
       "      <th>shortwave_radiation</th>\n",
       "      <th>direct_solar_radiation</th>\n",
       "      <th>diffuse_radiation</th>\n",
       "    </tr>\n",
       "  </thead>\n",
       "  <tbody>\n",
       "    <tr>\n",
       "      <th>0</th>\n",
       "      <td>2021</td>\n",
       "      <td>9</td>\n",
       "      <td>1</td>\n",
       "      <td>2</td>\n",
       "      <td>244</td>\n",
       "      <td>0</td>\n",
       "      <td>45.23</td>\n",
       "      <td>46.32</td>\n",
       "      <td>92.51</td>\n",
       "      <td>952.89</td>\n",
       "      <td>...</td>\n",
       "      <td>1015.8</td>\n",
       "      <td>4.0</td>\n",
       "      <td>4.0</td>\n",
       "      <td>0.0</td>\n",
       "      <td>0.0</td>\n",
       "      <td>6.694444</td>\n",
       "      <td>3.0</td>\n",
       "      <td>0.0</td>\n",
       "      <td>0.0</td>\n",
       "      <td>0.0</td>\n",
       "    </tr>\n",
       "    <tr>\n",
       "      <th>1</th>\n",
       "      <td>2021</td>\n",
       "      <td>9</td>\n",
       "      <td>1</td>\n",
       "      <td>2</td>\n",
       "      <td>244</td>\n",
       "      <td>0</td>\n",
       "      <td>45.23</td>\n",
       "      <td>46.32</td>\n",
       "      <td>92.51</td>\n",
       "      <td>952.89</td>\n",
       "      <td>...</td>\n",
       "      <td>1015.8</td>\n",
       "      <td>4.0</td>\n",
       "      <td>4.0</td>\n",
       "      <td>0.0</td>\n",
       "      <td>0.0</td>\n",
       "      <td>6.694444</td>\n",
       "      <td>3.0</td>\n",
       "      <td>0.0</td>\n",
       "      <td>0.0</td>\n",
       "      <td>0.0</td>\n",
       "    </tr>\n",
       "    <tr>\n",
       "      <th>2</th>\n",
       "      <td>2021</td>\n",
       "      <td>9</td>\n",
       "      <td>1</td>\n",
       "      <td>2</td>\n",
       "      <td>244</td>\n",
       "      <td>0</td>\n",
       "      <td>45.23</td>\n",
       "      <td>46.32</td>\n",
       "      <td>92.51</td>\n",
       "      <td>952.89</td>\n",
       "      <td>...</td>\n",
       "      <td>1015.8</td>\n",
       "      <td>4.0</td>\n",
       "      <td>4.0</td>\n",
       "      <td>0.0</td>\n",
       "      <td>0.0</td>\n",
       "      <td>6.694444</td>\n",
       "      <td>3.0</td>\n",
       "      <td>0.0</td>\n",
       "      <td>0.0</td>\n",
       "      <td>0.0</td>\n",
       "    </tr>\n",
       "  </tbody>\n",
       "</table>\n",
       "<p>3 rows × 24 columns</p>\n",
       "</div>"
      ],
      "text/plain": [
       "   year  month  day  day_of_week  day_of_year  hour_of_day  \\\n",
       "0  2021      9    1            2          244            0   \n",
       "1  2021      9    1            2          244            0   \n",
       "2  2021      9    1            2          244            0   \n",
       "\n",
       "   lowest_price_per_mwh  highest_price_per_mwh  euros_per_mwh  \\\n",
       "0                 45.23                  46.32          92.51   \n",
       "1                 45.23                  46.32          92.51   \n",
       "2                 45.23                  46.32          92.51   \n",
       "\n",
       "   installed_capacity  ...  surface_pressure  cloudcover_total  \\\n",
       "0              952.89  ...            1015.8               4.0   \n",
       "1              952.89  ...            1015.8               4.0   \n",
       "2              952.89  ...            1015.8               4.0   \n",
       "\n",
       "   cloudcover_low  cloudcover_mid  cloudcover_high  windspeed_10m  \\\n",
       "0             4.0             0.0              0.0       6.694444   \n",
       "1             4.0             0.0              0.0       6.694444   \n",
       "2             4.0             0.0              0.0       6.694444   \n",
       "\n",
       "   winddirection_10m  shortwave_radiation  direct_solar_radiation  \\\n",
       "0                3.0                  0.0                     0.0   \n",
       "1                3.0                  0.0                     0.0   \n",
       "2                3.0                  0.0                     0.0   \n",
       "\n",
       "   diffuse_radiation  \n",
       "0                0.0  \n",
       "1                0.0  \n",
       "2                0.0  \n",
       "\n",
       "[3 rows x 24 columns]"
      ]
     },
     "metadata": {},
     "output_type": "display_data"
    },
    {
     "data": {
      "text/html": [
       "<div>\n",
       "<style scoped>\n",
       "    .dataframe tbody tr th:only-of-type {\n",
       "        vertical-align: middle;\n",
       "    }\n",
       "\n",
       "    .dataframe tbody tr th {\n",
       "        vertical-align: top;\n",
       "    }\n",
       "\n",
       "    .dataframe thead th {\n",
       "        text-align: right;\n",
       "    }\n",
       "</style>\n",
       "<table border=\"1\" class=\"dataframe\">\n",
       "  <thead>\n",
       "    <tr style=\"text-align: right;\">\n",
       "      <th></th>\n",
       "      <th>year</th>\n",
       "      <th>month</th>\n",
       "      <th>day</th>\n",
       "      <th>day_of_week</th>\n",
       "      <th>day_of_year</th>\n",
       "      <th>hour_of_day</th>\n",
       "      <th>lowest_price_per_mwh</th>\n",
       "      <th>highest_price_per_mwh</th>\n",
       "      <th>euros_per_mwh</th>\n",
       "      <th>installed_capacity</th>\n",
       "      <th>...</th>\n",
       "      <th>surface_pressure</th>\n",
       "      <th>cloudcover_total</th>\n",
       "      <th>cloudcover_low</th>\n",
       "      <th>cloudcover_mid</th>\n",
       "      <th>cloudcover_high</th>\n",
       "      <th>windspeed_10m</th>\n",
       "      <th>winddirection_10m</th>\n",
       "      <th>shortwave_radiation</th>\n",
       "      <th>direct_solar_radiation</th>\n",
       "      <th>diffuse_radiation</th>\n",
       "    </tr>\n",
       "  </thead>\n",
       "  <tbody>\n",
       "    <tr>\n",
       "      <th>83828</th>\n",
       "      <td>2023</td>\n",
       "      <td>5</td>\n",
       "      <td>29</td>\n",
       "      <td>0</td>\n",
       "      <td>149</td>\n",
       "      <td>0</td>\n",
       "      <td>28.16</td>\n",
       "      <td>36.98</td>\n",
       "      <td>12.38</td>\n",
       "      <td>4964.215</td>\n",
       "      <td>...</td>\n",
       "      <td>1017.7</td>\n",
       "      <td>6.0</td>\n",
       "      <td>0.0</td>\n",
       "      <td>10.0</td>\n",
       "      <td>0.0</td>\n",
       "      <td>4.75</td>\n",
       "      <td>219.0</td>\n",
       "      <td>0.0</td>\n",
       "      <td>0.0</td>\n",
       "      <td>0.0</td>\n",
       "    </tr>\n",
       "    <tr>\n",
       "      <th>83829</th>\n",
       "      <td>2023</td>\n",
       "      <td>5</td>\n",
       "      <td>29</td>\n",
       "      <td>0</td>\n",
       "      <td>149</td>\n",
       "      <td>0</td>\n",
       "      <td>28.16</td>\n",
       "      <td>36.98</td>\n",
       "      <td>12.38</td>\n",
       "      <td>4964.215</td>\n",
       "      <td>...</td>\n",
       "      <td>1017.7</td>\n",
       "      <td>6.0</td>\n",
       "      <td>0.0</td>\n",
       "      <td>10.0</td>\n",
       "      <td>0.0</td>\n",
       "      <td>4.75</td>\n",
       "      <td>219.0</td>\n",
       "      <td>0.0</td>\n",
       "      <td>0.0</td>\n",
       "      <td>0.0</td>\n",
       "    </tr>\n",
       "    <tr>\n",
       "      <th>83830</th>\n",
       "      <td>2023</td>\n",
       "      <td>5</td>\n",
       "      <td>29</td>\n",
       "      <td>0</td>\n",
       "      <td>149</td>\n",
       "      <td>0</td>\n",
       "      <td>28.16</td>\n",
       "      <td>36.98</td>\n",
       "      <td>12.38</td>\n",
       "      <td>4964.215</td>\n",
       "      <td>...</td>\n",
       "      <td>1017.7</td>\n",
       "      <td>6.0</td>\n",
       "      <td>0.0</td>\n",
       "      <td>10.0</td>\n",
       "      <td>0.0</td>\n",
       "      <td>4.75</td>\n",
       "      <td>219.0</td>\n",
       "      <td>0.0</td>\n",
       "      <td>0.0</td>\n",
       "      <td>0.0</td>\n",
       "    </tr>\n",
       "    <tr>\n",
       "      <th>83831</th>\n",
       "      <td>2023</td>\n",
       "      <td>5</td>\n",
       "      <td>29</td>\n",
       "      <td>0</td>\n",
       "      <td>149</td>\n",
       "      <td>0</td>\n",
       "      <td>28.16</td>\n",
       "      <td>36.98</td>\n",
       "      <td>12.38</td>\n",
       "      <td>4964.215</td>\n",
       "      <td>...</td>\n",
       "      <td>1017.7</td>\n",
       "      <td>6.0</td>\n",
       "      <td>0.0</td>\n",
       "      <td>10.0</td>\n",
       "      <td>0.0</td>\n",
       "      <td>4.75</td>\n",
       "      <td>219.0</td>\n",
       "      <td>0.0</td>\n",
       "      <td>0.0</td>\n",
       "      <td>0.0</td>\n",
       "    </tr>\n",
       "    <tr>\n",
       "      <th>83832</th>\n",
       "      <td>2023</td>\n",
       "      <td>5</td>\n",
       "      <td>29</td>\n",
       "      <td>0</td>\n",
       "      <td>149</td>\n",
       "      <td>0</td>\n",
       "      <td>28.16</td>\n",
       "      <td>36.98</td>\n",
       "      <td>12.38</td>\n",
       "      <td>4964.215</td>\n",
       "      <td>...</td>\n",
       "      <td>1017.7</td>\n",
       "      <td>6.0</td>\n",
       "      <td>0.0</td>\n",
       "      <td>10.0</td>\n",
       "      <td>0.0</td>\n",
       "      <td>4.75</td>\n",
       "      <td>219.0</td>\n",
       "      <td>0.0</td>\n",
       "      <td>0.0</td>\n",
       "      <td>0.0</td>\n",
       "    </tr>\n",
       "    <tr>\n",
       "      <th>83833</th>\n",
       "      <td>2023</td>\n",
       "      <td>5</td>\n",
       "      <td>29</td>\n",
       "      <td>0</td>\n",
       "      <td>149</td>\n",
       "      <td>0</td>\n",
       "      <td>28.16</td>\n",
       "      <td>36.98</td>\n",
       "      <td>12.38</td>\n",
       "      <td>4964.215</td>\n",
       "      <td>...</td>\n",
       "      <td>1017.7</td>\n",
       "      <td>6.0</td>\n",
       "      <td>0.0</td>\n",
       "      <td>10.0</td>\n",
       "      <td>0.0</td>\n",
       "      <td>4.75</td>\n",
       "      <td>219.0</td>\n",
       "      <td>0.0</td>\n",
       "      <td>0.0</td>\n",
       "      <td>0.0</td>\n",
       "    </tr>\n",
       "    <tr>\n",
       "      <th>83834</th>\n",
       "      <td>2023</td>\n",
       "      <td>5</td>\n",
       "      <td>29</td>\n",
       "      <td>0</td>\n",
       "      <td>149</td>\n",
       "      <td>0</td>\n",
       "      <td>28.16</td>\n",
       "      <td>36.98</td>\n",
       "      <td>12.38</td>\n",
       "      <td>4964.215</td>\n",
       "      <td>...</td>\n",
       "      <td>1017.7</td>\n",
       "      <td>6.0</td>\n",
       "      <td>0.0</td>\n",
       "      <td>10.0</td>\n",
       "      <td>0.0</td>\n",
       "      <td>4.75</td>\n",
       "      <td>219.0</td>\n",
       "      <td>0.0</td>\n",
       "      <td>0.0</td>\n",
       "      <td>0.0</td>\n",
       "    </tr>\n",
       "    <tr>\n",
       "      <th>83835</th>\n",
       "      <td>2023</td>\n",
       "      <td>5</td>\n",
       "      <td>29</td>\n",
       "      <td>0</td>\n",
       "      <td>149</td>\n",
       "      <td>0</td>\n",
       "      <td>28.16</td>\n",
       "      <td>36.98</td>\n",
       "      <td>12.38</td>\n",
       "      <td>4964.215</td>\n",
       "      <td>...</td>\n",
       "      <td>1017.7</td>\n",
       "      <td>6.0</td>\n",
       "      <td>0.0</td>\n",
       "      <td>10.0</td>\n",
       "      <td>0.0</td>\n",
       "      <td>4.75</td>\n",
       "      <td>219.0</td>\n",
       "      <td>0.0</td>\n",
       "      <td>0.0</td>\n",
       "      <td>0.0</td>\n",
       "    </tr>\n",
       "    <tr>\n",
       "      <th>83836</th>\n",
       "      <td>2023</td>\n",
       "      <td>5</td>\n",
       "      <td>29</td>\n",
       "      <td>0</td>\n",
       "      <td>149</td>\n",
       "      <td>0</td>\n",
       "      <td>28.16</td>\n",
       "      <td>36.98</td>\n",
       "      <td>12.38</td>\n",
       "      <td>4964.215</td>\n",
       "      <td>...</td>\n",
       "      <td>1017.7</td>\n",
       "      <td>6.0</td>\n",
       "      <td>0.0</td>\n",
       "      <td>10.0</td>\n",
       "      <td>0.0</td>\n",
       "      <td>4.75</td>\n",
       "      <td>219.0</td>\n",
       "      <td>0.0</td>\n",
       "      <td>0.0</td>\n",
       "      <td>0.0</td>\n",
       "    </tr>\n",
       "    <tr>\n",
       "      <th>83837</th>\n",
       "      <td>2023</td>\n",
       "      <td>5</td>\n",
       "      <td>29</td>\n",
       "      <td>0</td>\n",
       "      <td>149</td>\n",
       "      <td>0</td>\n",
       "      <td>28.16</td>\n",
       "      <td>36.98</td>\n",
       "      <td>12.38</td>\n",
       "      <td>4964.215</td>\n",
       "      <td>...</td>\n",
       "      <td>1017.7</td>\n",
       "      <td>6.0</td>\n",
       "      <td>0.0</td>\n",
       "      <td>10.0</td>\n",
       "      <td>0.0</td>\n",
       "      <td>4.75</td>\n",
       "      <td>219.0</td>\n",
       "      <td>0.0</td>\n",
       "      <td>0.0</td>\n",
       "      <td>0.0</td>\n",
       "    </tr>\n",
       "  </tbody>\n",
       "</table>\n",
       "<p>10 rows × 24 columns</p>\n",
       "</div>"
      ],
      "text/plain": [
       "       year  month  day  day_of_week  day_of_year  hour_of_day  \\\n",
       "83828  2023      5   29            0          149            0   \n",
       "83829  2023      5   29            0          149            0   \n",
       "83830  2023      5   29            0          149            0   \n",
       "83831  2023      5   29            0          149            0   \n",
       "83832  2023      5   29            0          149            0   \n",
       "83833  2023      5   29            0          149            0   \n",
       "83834  2023      5   29            0          149            0   \n",
       "83835  2023      5   29            0          149            0   \n",
       "83836  2023      5   29            0          149            0   \n",
       "83837  2023      5   29            0          149            0   \n",
       "\n",
       "       lowest_price_per_mwh  highest_price_per_mwh  euros_per_mwh  \\\n",
       "83828                 28.16                  36.98          12.38   \n",
       "83829                 28.16                  36.98          12.38   \n",
       "83830                 28.16                  36.98          12.38   \n",
       "83831                 28.16                  36.98          12.38   \n",
       "83832                 28.16                  36.98          12.38   \n",
       "83833                 28.16                  36.98          12.38   \n",
       "83834                 28.16                  36.98          12.38   \n",
       "83835                 28.16                  36.98          12.38   \n",
       "83836                 28.16                  36.98          12.38   \n",
       "83837                 28.16                  36.98          12.38   \n",
       "\n",
       "       installed_capacity  ...  surface_pressure  cloudcover_total  \\\n",
       "83828            4964.215  ...            1017.7               6.0   \n",
       "83829            4964.215  ...            1017.7               6.0   \n",
       "83830            4964.215  ...            1017.7               6.0   \n",
       "83831            4964.215  ...            1017.7               6.0   \n",
       "83832            4964.215  ...            1017.7               6.0   \n",
       "83833            4964.215  ...            1017.7               6.0   \n",
       "83834            4964.215  ...            1017.7               6.0   \n",
       "83835            4964.215  ...            1017.7               6.0   \n",
       "83836            4964.215  ...            1017.7               6.0   \n",
       "83837            4964.215  ...            1017.7               6.0   \n",
       "\n",
       "       cloudcover_low  cloudcover_mid  cloudcover_high  windspeed_10m  \\\n",
       "83828             0.0            10.0              0.0           4.75   \n",
       "83829             0.0            10.0              0.0           4.75   \n",
       "83830             0.0            10.0              0.0           4.75   \n",
       "83831             0.0            10.0              0.0           4.75   \n",
       "83832             0.0            10.0              0.0           4.75   \n",
       "83833             0.0            10.0              0.0           4.75   \n",
       "83834             0.0            10.0              0.0           4.75   \n",
       "83835             0.0            10.0              0.0           4.75   \n",
       "83836             0.0            10.0              0.0           4.75   \n",
       "83837             0.0            10.0              0.0           4.75   \n",
       "\n",
       "       winddirection_10m  shortwave_radiation  direct_solar_radiation  \\\n",
       "83828              219.0                  0.0                     0.0   \n",
       "83829              219.0                  0.0                     0.0   \n",
       "83830              219.0                  0.0                     0.0   \n",
       "83831              219.0                  0.0                     0.0   \n",
       "83832              219.0                  0.0                     0.0   \n",
       "83833              219.0                  0.0                     0.0   \n",
       "83834              219.0                  0.0                     0.0   \n",
       "83835              219.0                  0.0                     0.0   \n",
       "83836              219.0                  0.0                     0.0   \n",
       "83837              219.0                  0.0                     0.0   \n",
       "\n",
       "       diffuse_radiation  \n",
       "83828                0.0  \n",
       "83829                0.0  \n",
       "83830                0.0  \n",
       "83831                0.0  \n",
       "83832                0.0  \n",
       "83833                0.0  \n",
       "83834                0.0  \n",
       "83835                0.0  \n",
       "83836                0.0  \n",
       "83837                0.0  \n",
       "\n",
       "[10 rows x 24 columns]"
      ]
     },
     "metadata": {},
     "output_type": "display_data"
    },
    {
     "data": {
      "text/html": [
       "<div>\n",
       "<style scoped>\n",
       "    .dataframe tbody tr th:only-of-type {\n",
       "        vertical-align: middle;\n",
       "    }\n",
       "\n",
       "    .dataframe tbody tr th {\n",
       "        vertical-align: top;\n",
       "    }\n",
       "\n",
       "    .dataframe thead th {\n",
       "        text-align: right;\n",
       "    }\n",
       "</style>\n",
       "<table border=\"1\" class=\"dataframe\">\n",
       "  <thead>\n",
       "    <tr style=\"text-align: right;\">\n",
       "      <th></th>\n",
       "      <th>target</th>\n",
       "    </tr>\n",
       "  </thead>\n",
       "  <tbody>\n",
       "    <tr>\n",
       "      <th>0</th>\n",
       "      <td>0.713</td>\n",
       "    </tr>\n",
       "    <tr>\n",
       "      <th>1</th>\n",
       "      <td>96.590</td>\n",
       "    </tr>\n",
       "    <tr>\n",
       "      <th>2</th>\n",
       "      <td>0.000</td>\n",
       "    </tr>\n",
       "  </tbody>\n",
       "</table>\n",
       "</div>"
      ],
      "text/plain": [
       "   target\n",
       "0   0.713\n",
       "1  96.590\n",
       "2   0.000"
      ]
     },
     "metadata": {},
     "output_type": "display_data"
    },
    {
     "data": {
      "text/html": [
       "<div>\n",
       "<style scoped>\n",
       "    .dataframe tbody tr th:only-of-type {\n",
       "        vertical-align: middle;\n",
       "    }\n",
       "\n",
       "    .dataframe tbody tr th {\n",
       "        vertical-align: top;\n",
       "    }\n",
       "\n",
       "    .dataframe thead th {\n",
       "        text-align: right;\n",
       "    }\n",
       "</style>\n",
       "<table border=\"1\" class=\"dataframe\">\n",
       "  <thead>\n",
       "    <tr style=\"text-align: right;\">\n",
       "      <th></th>\n",
       "      <th>target</th>\n",
       "    </tr>\n",
       "  </thead>\n",
       "  <tbody>\n",
       "    <tr>\n",
       "      <th>83835</th>\n",
       "      <td>33.713</td>\n",
       "    </tr>\n",
       "    <tr>\n",
       "      <th>83836</th>\n",
       "      <td>0.000</td>\n",
       "    </tr>\n",
       "    <tr>\n",
       "      <th>83837</th>\n",
       "      <td>153.666</td>\n",
       "    </tr>\n",
       "  </tbody>\n",
       "</table>\n",
       "</div>"
      ],
      "text/plain": [
       "        target\n",
       "83835   33.713\n",
       "83836    0.000\n",
       "83837  153.666"
      ]
     },
     "metadata": {},
     "output_type": "display_data"
    }
   ],
   "source": [
    "print(df_X.columns)\n",
    "display(df_X.head(3))\n",
    "display(df_X.tail(10))\n",
    "display(df_y.head(3))\n",
    "display(df_y.tail(3))"
   ]
  },
  {
   "cell_type": "code",
   "execution_count": 70,
   "id": "2a2261bb",
   "metadata": {},
   "outputs": [
    {
     "name": "stdout",
     "output_type": "stream",
     "text": [
      "(58686, 24) (58686, 1) (25152, 24) (25152, 1)\n"
     ]
    }
   ],
   "source": [
    "test_size = 0.3\n",
    "\n",
    "X_train, X_test, y_train, y_test = train_test_split(df_X, df_y, \n",
    "                                                    test_size=test_size, \n",
    "                                                    )#, stratify=y\n",
    "\n",
    "print(X_train.shape, y_train.shape, X_test.shape, y_test.shape)"
   ]
  },
  {
   "cell_type": "code",
   "execution_count": 72,
   "id": "b4b60019",
   "metadata": {},
   "outputs": [],
   "source": [
    "import xgboost as xg "
   ]
  },
  {
   "cell_type": "code",
   "execution_count": 73,
   "id": "c679368a",
   "metadata": {},
   "outputs": [],
   "source": [
    "# Instantiation \n",
    "xgb_r = xg.XGBRegressor() \n",
    "\n",
    "# objective ='reg:linear', n_estimators = 10, seed = 123"
   ]
  },
  {
   "cell_type": "code",
   "execution_count": 75,
   "id": "25a8b364",
   "metadata": {},
   "outputs": [
    {
     "data": {
      "text/html": [
       "<style>#sk-container-id-1 {color: black;}#sk-container-id-1 pre{padding: 0;}#sk-container-id-1 div.sk-toggleable {background-color: white;}#sk-container-id-1 label.sk-toggleable__label {cursor: pointer;display: block;width: 100%;margin-bottom: 0;padding: 0.3em;box-sizing: border-box;text-align: center;}#sk-container-id-1 label.sk-toggleable__label-arrow:before {content: \"▸\";float: left;margin-right: 0.25em;color: #696969;}#sk-container-id-1 label.sk-toggleable__label-arrow:hover:before {color: black;}#sk-container-id-1 div.sk-estimator:hover label.sk-toggleable__label-arrow:before {color: black;}#sk-container-id-1 div.sk-toggleable__content {max-height: 0;max-width: 0;overflow: hidden;text-align: left;background-color: #f0f8ff;}#sk-container-id-1 div.sk-toggleable__content pre {margin: 0.2em;color: black;border-radius: 0.25em;background-color: #f0f8ff;}#sk-container-id-1 input.sk-toggleable__control:checked~div.sk-toggleable__content {max-height: 200px;max-width: 100%;overflow: auto;}#sk-container-id-1 input.sk-toggleable__control:checked~label.sk-toggleable__label-arrow:before {content: \"▾\";}#sk-container-id-1 div.sk-estimator input.sk-toggleable__control:checked~label.sk-toggleable__label {background-color: #d4ebff;}#sk-container-id-1 div.sk-label input.sk-toggleable__control:checked~label.sk-toggleable__label {background-color: #d4ebff;}#sk-container-id-1 input.sk-hidden--visually {border: 0;clip: rect(1px 1px 1px 1px);clip: rect(1px, 1px, 1px, 1px);height: 1px;margin: -1px;overflow: hidden;padding: 0;position: absolute;width: 1px;}#sk-container-id-1 div.sk-estimator {font-family: monospace;background-color: #f0f8ff;border: 1px dotted black;border-radius: 0.25em;box-sizing: border-box;margin-bottom: 0.5em;}#sk-container-id-1 div.sk-estimator:hover {background-color: #d4ebff;}#sk-container-id-1 div.sk-parallel-item::after {content: \"\";width: 100%;border-bottom: 1px solid gray;flex-grow: 1;}#sk-container-id-1 div.sk-label:hover label.sk-toggleable__label {background-color: #d4ebff;}#sk-container-id-1 div.sk-serial::before {content: \"\";position: absolute;border-left: 1px solid gray;box-sizing: border-box;top: 0;bottom: 0;left: 50%;z-index: 0;}#sk-container-id-1 div.sk-serial {display: flex;flex-direction: column;align-items: center;background-color: white;padding-right: 0.2em;padding-left: 0.2em;position: relative;}#sk-container-id-1 div.sk-item {position: relative;z-index: 1;}#sk-container-id-1 div.sk-parallel {display: flex;align-items: stretch;justify-content: center;background-color: white;position: relative;}#sk-container-id-1 div.sk-item::before, #sk-container-id-1 div.sk-parallel-item::before {content: \"\";position: absolute;border-left: 1px solid gray;box-sizing: border-box;top: 0;bottom: 0;left: 50%;z-index: -1;}#sk-container-id-1 div.sk-parallel-item {display: flex;flex-direction: column;z-index: 1;position: relative;background-color: white;}#sk-container-id-1 div.sk-parallel-item:first-child::after {align-self: flex-end;width: 50%;}#sk-container-id-1 div.sk-parallel-item:last-child::after {align-self: flex-start;width: 50%;}#sk-container-id-1 div.sk-parallel-item:only-child::after {width: 0;}#sk-container-id-1 div.sk-dashed-wrapped {border: 1px dashed gray;margin: 0 0.4em 0.5em 0.4em;box-sizing: border-box;padding-bottom: 0.4em;background-color: white;}#sk-container-id-1 div.sk-label label {font-family: monospace;font-weight: bold;display: inline-block;line-height: 1.2em;}#sk-container-id-1 div.sk-label-container {text-align: center;}#sk-container-id-1 div.sk-container {/* jupyter's `normalize.less` sets `[hidden] { display: none; }` but bootstrap.min.css set `[hidden] { display: none !important; }` so we also need the `!important` here to be able to override the default hidden behavior on the sphinx rendered scikit-learn.org. See: https://github.com/scikit-learn/scikit-learn/issues/21755 */display: inline-block !important;position: relative;}#sk-container-id-1 div.sk-text-repr-fallback {display: none;}</style><div id=\"sk-container-id-1\" class=\"sk-top-container\"><div class=\"sk-text-repr-fallback\"><pre>XGBRegressor(base_score=None, booster=None, callbacks=None,\n",
       "             colsample_bylevel=None, colsample_bynode=None,\n",
       "             colsample_bytree=None, early_stopping_rounds=None,\n",
       "             enable_categorical=False, eval_metric=None, feature_types=None,\n",
       "             gamma=None, gpu_id=None, grow_policy=None, importance_type=None,\n",
       "             interaction_constraints=None, learning_rate=None, max_bin=None,\n",
       "             max_cat_threshold=None, max_cat_to_onehot=None,\n",
       "             max_delta_step=None, max_depth=None, max_leaves=None,\n",
       "             min_child_weight=None, missing=nan, monotone_constraints=None,\n",
       "             n_estimators=100, n_jobs=None, num_parallel_tree=None,\n",
       "             predictor=None, random_state=None, ...)</pre><b>In a Jupyter environment, please rerun this cell to show the HTML representation or trust the notebook. <br />On GitHub, the HTML representation is unable to render, please try loading this page with nbviewer.org.</b></div><div class=\"sk-container\" hidden><div class=\"sk-item\"><div class=\"sk-estimator sk-toggleable\"><input class=\"sk-toggleable__control sk-hidden--visually\" id=\"sk-estimator-id-1\" type=\"checkbox\" checked><label for=\"sk-estimator-id-1\" class=\"sk-toggleable__label sk-toggleable__label-arrow\">XGBRegressor</label><div class=\"sk-toggleable__content\"><pre>XGBRegressor(base_score=None, booster=None, callbacks=None,\n",
       "             colsample_bylevel=None, colsample_bynode=None,\n",
       "             colsample_bytree=None, early_stopping_rounds=None,\n",
       "             enable_categorical=False, eval_metric=None, feature_types=None,\n",
       "             gamma=None, gpu_id=None, grow_policy=None, importance_type=None,\n",
       "             interaction_constraints=None, learning_rate=None, max_bin=None,\n",
       "             max_cat_threshold=None, max_cat_to_onehot=None,\n",
       "             max_delta_step=None, max_depth=None, max_leaves=None,\n",
       "             min_child_weight=None, missing=nan, monotone_constraints=None,\n",
       "             n_estimators=100, n_jobs=None, num_parallel_tree=None,\n",
       "             predictor=None, random_state=None, ...)</pre></div></div></div></div></div>"
      ],
      "text/plain": [
       "XGBRegressor(base_score=None, booster=None, callbacks=None,\n",
       "             colsample_bylevel=None, colsample_bynode=None,\n",
       "             colsample_bytree=None, early_stopping_rounds=None,\n",
       "             enable_categorical=False, eval_metric=None, feature_types=None,\n",
       "             gamma=None, gpu_id=None, grow_policy=None, importance_type=None,\n",
       "             interaction_constraints=None, learning_rate=None, max_bin=None,\n",
       "             max_cat_threshold=None, max_cat_to_onehot=None,\n",
       "             max_delta_step=None, max_depth=None, max_leaves=None,\n",
       "             min_child_weight=None, missing=nan, monotone_constraints=None,\n",
       "             n_estimators=100, n_jobs=None, num_parallel_tree=None,\n",
       "             predictor=None, random_state=None, ...)"
      ]
     },
     "execution_count": 75,
     "metadata": {},
     "output_type": "execute_result"
    }
   ],
   "source": [
    "# Fitting the model \n",
    "xgb_r.fit(X_train, y_train)"
   ]
  },
  {
   "cell_type": "code",
   "execution_count": 76,
   "id": "08ba611d",
   "metadata": {},
   "outputs": [],
   "source": [
    "# Predict the model \n",
    "y_pred = xgb_r.predict(X_test) "
   ]
  },
  {
   "cell_type": "code",
   "execution_count": 78,
   "id": "ebb774b1",
   "metadata": {},
   "outputs": [
    {
     "data": {
      "text/plain": [
       "array([163.02126, 232.97183, 132.50424, 182.1399 , 186.36836, 162.47014,\n",
       "       157.46178, 218.88347, 146.81073, 175.04994], dtype=float32)"
      ]
     },
     "execution_count": 78,
     "metadata": {},
     "output_type": "execute_result"
    }
   ],
   "source": [
    "y_pred[0:10]"
   ]
  },
  {
   "cell_type": "code",
   "execution_count": 79,
   "id": "356595be",
   "metadata": {},
   "outputs": [],
   "source": [
    "from sklearn.metrics import mean_absolute_error"
   ]
  },
  {
   "cell_type": "code",
   "execution_count": 80,
   "id": "09320237",
   "metadata": {},
   "outputs": [
    {
     "data": {
      "text/plain": [
       "297.62823402505734"
      ]
     },
     "execution_count": 80,
     "metadata": {},
     "output_type": "execute_result"
    }
   ],
   "source": [
    "mean_absolute_error(y_test, y_pred)"
   ]
  },
  {
   "cell_type": "markdown",
   "id": "aaf5bfba",
   "metadata": {},
   "source": [
    "### Results, 11/26/2023a:\n",
    "\n",
    "    My MAE: 297.62823402505734\n",
    "    Kggl LB: Top_50: 63 to 70  (lower is better). \n",
    "             579 (worst score on LB:): 480  (but most better than 100 . . . )\n",
    "             (note: this is a different test set, etc)"
   ]
  },
  {
   "cell_type": "code",
   "execution_count": 86,
   "id": "54a86352",
   "metadata": {},
   "outputs": [
    {
     "data": {
      "text/plain": [
       "array([163.02126, 232.97183, 132.50424, ..., 194.64897, 172.63458,\n",
       "       174.51456], dtype=float32)"
      ]
     },
     "execution_count": 86,
     "metadata": {},
     "output_type": "execute_result"
    }
   ],
   "source": [
    "y_pred"
   ]
  },
  {
   "cell_type": "code",
   "execution_count": 84,
   "id": "a1b16598",
   "metadata": {},
   "outputs": [
    {
     "name": "stdout",
     "output_type": "stream",
     "text": [
      "(25152, 1) (25152,)\n"
     ]
    }
   ],
   "source": [
    "print(y_test.shape, y_pred.shape)"
   ]
  },
  {
   "cell_type": "code",
   "execution_count": 87,
   "id": "ea3df1e9",
   "metadata": {},
   "outputs": [
    {
     "data": {
      "text/plain": [
       "[<matplotlib.lines.Line2D at 0x2c927ab4dc0>]"
      ]
     },
     "execution_count": 87,
     "metadata": {},
     "output_type": "execute_result"
    },
    {
     "data": {
      "image/png": "[encoded data removed]",
      "text/plain": [
       "<Figure size 432x288 with 1 Axes>"
      ]
     },
     "metadata": {
      "needs_background": "light"
     },
     "output_type": "display_data"
    }
   ],
   "source": [
    "plt.figure()\n",
    "plt.plot(y_test.values, y_pred, 'o')"
   ]
  },
  {
   "cell_type": "markdown",
   "id": "4a891feb",
   "metadata": {},
   "source": [
    "(don't know what the interpretation of this should be . . . )"
   ]
  },
  {
   "cell_type": "code",
   "execution_count": 91,
   "id": "802e1c3f",
   "metadata": {},
   "outputs": [
    {
     "name": "stdout",
     "output_type": "stream",
     "text": [
      "(25152,)\n"
     ]
    }
   ],
   "source": [
    "print(y_pred.shape)"
   ]
  },
  {
   "cell_type": "code",
   "execution_count": 99,
   "id": "5cb21e4e",
   "metadata": {},
   "outputs": [],
   "source": [
    "df_result1 = pd.DataFrame({'y_test': y_test.values.tolist(), \n",
    "                           'y_pred': y_pred\n",
    "                           })"
   ]
  },
  {
   "cell_type": "code",
   "execution_count": 100,
   "id": "139a00c8",
   "metadata": {},
   "outputs": [
    {
     "data": {
      "text/html": [
       "<div>\n",
       "<style scoped>\n",
       "    .dataframe tbody tr th:only-of-type {\n",
       "        vertical-align: middle;\n",
       "    }\n",
       "\n",
       "    .dataframe tbody tr th {\n",
       "        vertical-align: top;\n",
       "    }\n",
       "\n",
       "    .dataframe thead th {\n",
       "        text-align: right;\n",
       "    }\n",
       "</style>\n",
       "<table border=\"1\" class=\"dataframe\">\n",
       "  <thead>\n",
       "    <tr style=\"text-align: right;\">\n",
       "      <th></th>\n",
       "      <th>y_test</th>\n",
       "      <th>y_pred</th>\n",
       "    </tr>\n",
       "  </thead>\n",
       "  <tbody>\n",
       "    <tr>\n",
       "      <th>0</th>\n",
       "      <td>[37.12]</td>\n",
       "      <td>163.021255</td>\n",
       "    </tr>\n",
       "    <tr>\n",
       "      <th>1</th>\n",
       "      <td>[0.0]</td>\n",
       "      <td>232.971832</td>\n",
       "    </tr>\n",
       "    <tr>\n",
       "      <th>2</th>\n",
       "      <td>[45.535]</td>\n",
       "      <td>132.504242</td>\n",
       "    </tr>\n",
       "    <tr>\n",
       "      <th>3</th>\n",
       "      <td>[3.371]</td>\n",
       "      <td>182.139893</td>\n",
       "    </tr>\n",
       "    <tr>\n",
       "      <th>4</th>\n",
       "      <td>[0.057]</td>\n",
       "      <td>186.368362</td>\n",
       "    </tr>\n",
       "    <tr>\n",
       "      <th>...</th>\n",
       "      <td>...</td>\n",
       "      <td>...</td>\n",
       "    </tr>\n",
       "    <tr>\n",
       "      <th>25147</th>\n",
       "      <td>[102.378]</td>\n",
       "      <td>108.131821</td>\n",
       "    </tr>\n",
       "    <tr>\n",
       "      <th>25148</th>\n",
       "      <td>[0.0]</td>\n",
       "      <td>158.362503</td>\n",
       "    </tr>\n",
       "    <tr>\n",
       "      <th>25149</th>\n",
       "      <td>[0.0]</td>\n",
       "      <td>194.648972</td>\n",
       "    </tr>\n",
       "    <tr>\n",
       "      <th>25150</th>\n",
       "      <td>[139.717]</td>\n",
       "      <td>172.634583</td>\n",
       "    </tr>\n",
       "    <tr>\n",
       "      <th>25151</th>\n",
       "      <td>[0.0]</td>\n",
       "      <td>174.514557</td>\n",
       "    </tr>\n",
       "  </tbody>\n",
       "</table>\n",
       "<p>25152 rows × 2 columns</p>\n",
       "</div>"
      ],
      "text/plain": [
       "          y_test      y_pred\n",
       "0        [37.12]  163.021255\n",
       "1          [0.0]  232.971832\n",
       "2       [45.535]  132.504242\n",
       "3        [3.371]  182.139893\n",
       "4        [0.057]  186.368362\n",
       "...          ...         ...\n",
       "25147  [102.378]  108.131821\n",
       "25148      [0.0]  158.362503\n",
       "25149      [0.0]  194.648972\n",
       "25150  [139.717]  172.634583\n",
       "25151      [0.0]  174.514557\n",
       "\n",
       "[25152 rows x 2 columns]"
      ]
     },
     "execution_count": 100,
     "metadata": {},
     "output_type": "execute_result"
    }
   ],
   "source": [
    "df_result1"
   ]
  },
  {
   "cell_type": "markdown",
   "id": "88887824",
   "metadata": {},
   "source": [
    "hmmm . . . badly in many cases . . . look into later . . . "
   ]
  },
  {
   "cell_type": "markdown",
   "id": "79a65558",
   "metadata": {},
   "source": [
    "### Interesting Reads\n",
    "\n",
    "* Example of creating decent X from provided csv docs:\n",
    " https://www.kaggle.com/code/anubhavtyagi1212/eenefit-predict-energy-behaviour"
   ]
  },
  {
   "cell_type": "code",
   "execution_count": null,
   "id": "c53e8cb9",
   "metadata": {},
   "outputs": [],
   "source": []
  }
 ],
 "metadata": {
  "kernelspec": {
   "display_name": "Python 3",
   "language": "python",
   "name": "python3"
  },
  "language_info": {
   "codemirror_mode": {
    "name": "ipython",
    "version": 3
   },
   "file_extension": ".py",
   "mimetype": "text/x-python",
   "name": "python",
   "nbconvert_exporter": "python",
   "pygments_lexer": "ipython3",
   "version": "3.8.8"
  }
 },
 "nbformat": 4,
 "nbformat_minor": 5
}
